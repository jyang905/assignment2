{
 "cells": [
  {
   "cell_type": "code",
   "execution_count": 12,
   "id": "3f78cdfb-8f49-4fe7-aa11-00124d6b417c",
   "metadata": {},
   "outputs": [],
   "source": [
    "import csv\n",
    "from pathlib import Path"
   ]
  },
  {
   "cell_type": "code",
   "execution_count": 13,
   "id": "6c8e2917-d900-47c7-b83f-87386a6ba424",
   "metadata": {},
   "outputs": [],
   "source": [
    "load_csv=Path(\"budget_data.csv\")"
   ]
  },
  {
   "cell_type": "code",
   "execution_count": 14,
   "id": "6be0f6e9-b83d-40d5-a2a8-fad69d4d201f",
   "metadata": {},
   "outputs": [],
   "source": [
    "total_months = 0 \n",
    "month_of_change =[]\n",
    "net_change_list = []\n",
    "greatest_increase = [\"\", 0]\n",
    "greatest_decrease = [\"\", 999999999999999999999999]\n",
    "total_net = 0"
   ]
  },
  {
   "cell_type": "code",
   "execution_count": 15,
   "id": "6b4f4c36-6d63-41c3-b1e2-fc9a636e1bd5",
   "metadata": {},
   "outputs": [],
   "source": [
    "with open(load_csv) as financial_statement:\n",
    "    reader = csv.reader(financial_statement)\n",
    "    \n",
    "    header = next(reader)\n",
    "    \n",
    "    first_row = next(reader)\n",
    "    total_months = total_months + 1\n",
    "    total_net = total_net + int(first_row[1])\n",
    "    prev_net = int(first_row[1])\n",
    "    \n",
    "    for row in reader:\n",
    "        \n",
    "        total_months = total_months + 1\n",
    "        total_net = total_net + int(row[1])\n",
    "        \n",
    "        net_change = int(row[1]) - prev_net\n",
    "        prev_net = int(row[1])\n",
    "        net_change_list = net_change_list + [net_change]\n",
    "        month_of_change = month_of_change + [row[0]]\n",
    "           \n",
    "        if net_change > greatest_increase[1]:\n",
    "            greatest_increase[0] = row[0]\n",
    "            greatest_increase[1] = net_change\n",
    "            \n",
    "        if net_change < greatest_decrease[1]:\n",
    "            greatest_decrease[0] = row[0]\n",
    "            greatest_decrease[1] = net_change\n",
    "        \n",
    "        \n",
    "        \n",
    "        \n",
    "        "
   ]
  },
  {
   "cell_type": "code",
   "execution_count": 27,
   "id": "1aeaa6bf-3f41-4069-b37b-38a9453b22c4",
   "metadata": {},
   "outputs": [],
   "source": [
    "net_monthly_avg = round(sum(net_change_list) / len(net_change_list),2)\n"
   ]
  },
  {
   "cell_type": "code",
   "execution_count": 31,
   "id": "1230cde3-9059-414e-a2ab-476ec0fb080c",
   "metadata": {},
   "outputs": [
    {
     "name": "stdout",
     "output_type": "stream",
     "text": [
      "Financial Analysis\n",
      "------------------\n",
      " Total Months: 86\n",
      " Total: $38382578\n",
      " Average change: $-2315.12\n",
      " Greatest increase: $['Feb-2012', 1926159]\n",
      " Greatest decrease: $['Sep-2013', -2196167]\n"
     ]
    }
   ],
   "source": [
    "print(\"Financial Analysis\")\n",
    "print(\"------------------\")\n",
    "print(f\" Total Months: {total_months}\")\n",
    "print(f\" Total: ${total_net}\")\n",
    "print(f\" Average change: ${net_monthly_avg}\")\n",
    "print(f\" Greatest increase: ${greatest_increase}\")\n",
    "print(f\" Greatest decrease: ${greatest_decrease}\")"
   ]
  },
  {
   "cell_type": "code",
   "execution_count": 32,
   "id": "dd5219a0-0275-44c1-88d5-414244a7a4a6",
   "metadata": {},
   "outputs": [],
   "source": [
    "file_to_output = Path(\"budget_analysis.txt\")\n",
    "\n",
    "with open(file_to_output, \"w\") as txt_file:\n",
    "    txt_file.write(f\"Financial Analysis\\n\")\n",
    "    txt_file.write(f\"----------------------------\\n\")\n",
    "    txt_file.write(f\"Total Months: {total_months}\\n\")\n",
    "    txt_file.write(f\"Total: ${total_net}\\n\")\n",
    "    txt_file.write(f\"Average  Change: ${net_monthly_avg}\\n\")\n",
    "    txt_file.write(f\"Greatest Increase in Profits: {greatest_increase})\\n\")\n",
    "    txt_file.write(f\"Greatest Decrease in Profits: {greatest_decrease})\\n\")"
   ]
  },
  {
   "cell_type": "code",
   "execution_count": null,
   "id": "6fc9015c-afad-4495-a773-7bbac28d9270",
   "metadata": {},
   "outputs": [],
   "source": []
  }
 ],
 "metadata": {
  "kernelspec": {
   "display_name": "Python 3 (ipykernel)",
   "language": "python",
   "name": "python3"
  },
  "language_info": {
   "codemirror_mode": {
    "name": "ipython",
    "version": 3
   },
   "file_extension": ".py",
   "mimetype": "text/x-python",
   "name": "python",
   "nbconvert_exporter": "python",
   "pygments_lexer": "ipython3",
   "version": "3.10.6"
  }
 },
 "nbformat": 4,
 "nbformat_minor": 5
}
